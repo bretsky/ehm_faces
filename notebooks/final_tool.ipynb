{
 "cells": [
  {
   "cell_type": "code",
   "execution_count": null,
   "metadata": {
    "id": "view-in-github",
    "colab_type": "text"
   },
   "outputs": [],
   "source": [
    "<a href=\"https://colab.research.google.com/github/colinrsmall/ehm_faces/blob/master/notebooks/final_tool.ipynb\" target=\"_parent\"><img src=\"https://colab.research.google.com/assets/colab-badge.svg\" alt=\"Open In Colab\"/></a>"
   ]
  },
  {
   "cell_type": "code",
   "execution_count": null,
   "metadata": {
    "id": "LmeVEnhIKNBf",
    "colab_type": "code",
    "colab": {}
   },
   "outputs": [],
   "source": [
    "import csv, datetime\n",
    "import pandas as pd"
   ]
  },
  {
   "cell_type": "code",
   "execution_count": null,
   "metadata": {
    "id": "d4UlQXt0VAUs",
    "colab_type": "code",
    "colab": {
     "base_uri": "https://localhost:8080/",
     "height": 136.0
    },
    "outputId": "db2f1e89-70ad-4832-a9d8-434aec164eb9"
   },
   "outputs": [
    {
     "name": "stdout",
     "output_type": "stream",
     "text": [
      "Cloning into 'ehm_faces'...\n",
      "remote: Enumerating objects: 141, done.\u001b[K\n",
      "remote: Counting objects: 100% (141/141), done.\u001b[K\n",
      "remote: Compressing objects: 100% (108/108), done.\u001b[K\n",
      "remote: Total 141 (delta 65), reused 90 (delta 30), pack-reused 0\u001b[K\n",
      "Receiving objects: 100% (141/141), 991.65 KiB | 897.00 KiB/s, done.\n",
      "Resolving deltas: 100% (65/65), done.\n"
     ]
    }
   ],
   "source": [
    "!git clone https://github.com/colinrsmall/ehm_faces.git"
   ]
  },
  {
   "cell_type": "code",
   "execution_count": null,
   "metadata": {
    "id": "_dBWvF3SVseu",
    "colab_type": "code",
    "colab": {
     "base_uri": "https://localhost:8080/",
     "height": 34.0
    },
    "outputId": "df89cd01-d285-4fd9-d863-123f0f1859ae"
   },
   "outputs": [
    {
     "name": "stdout",
     "output_type": "stream",
     "text": [
      "TensorFlow 1.x selected.\n"
     ]
    }
   ],
   "source": [
    "%tensorflow_version 1.x"
   ]
  },
  {
   "cell_type": "code",
   "execution_count": null,
   "metadata": {
    "id": "JZCKqEEPHWg2",
    "colab_type": "code",
    "colab": {}
   },
   "outputs": [],
   "source": [
    "!export TF_CPP_MIN_LOG_LEVEL=3"
   ]
  },
  {
   "cell_type": "code",
   "execution_count": null,
   "metadata": {
    "id": "YW8TU45VVWGQ",
    "colab_type": "code",
    "colab": {
     "base_uri": "https://localhost:8080/",
     "height": 1000.0
    },
    "outputId": "eb43ce44-0efb-4e4e-89f2-4c137cd79c03"
   },
   "outputs": [
    {
     "name": "stdout",
     "output_type": "stream",
     "text": [
      "WARNING:tensorflow:From /content/ehm_faces/final_tool/dnnlib/tflib/tfutil.py:34: The name tf.Dimension is deprecated. Please use tf.compat.v1.Dimension instead.\n",
      "\n",
      "WARNING:tensorflow:From /content/ehm_faces/final_tool/dnnlib/tflib/tfutil.py:74: The name tf.variable_scope is deprecated. Please use tf.compat.v1.variable_scope instead.\n",
      "\n",
      "WARNING:tensorflow:From /content/ehm_faces/final_tool/dnnlib/tflib/tfutil.py:128: The name tf.Session is deprecated. Please use tf.compat.v1.Session instead.\n",
      "\n",
      "Welcome to the EHM facepic generator.\n",
      "Please enter the absolute path your players .csv file: /content/players_&_non-players.csv\n",
      "Please enter a path to a directory containing facepics (likely at least EHM/data/pictures/players).\n",
      "Or hit enter if you're done entering paths: \n",
      "Please enter a path to where you want facepics to be saved (likely EHM/data/pictures/players): /content/faces2\n",
      "Please choose a variance level for faces:\n",
      "Very Low Variance      Low Variance        High Variance     Very High Variance\n",
      "<--- 0.6 ----------------- 0.7 ----------------- 0.8 ----------------- 0.9 --->\n",
      "Lower variance is less prone to generating unrealistic faces but will generate more boring faces.\n",
      "0.8 or 0.7 is recommended.\n",
      "Variance level: 0.8\n",
      "Generating 42466 faces will take up approximately 2123.3 MB. Do you wish to continue?\n",
      "Do you wish to continue? Y/N:Y\n",
      "WARNING:tensorflow:From /content/ehm_faces/final_tool/dnnlib/tflib/tfutil.py:97: The name tf.get_default_session is deprecated. Please use tf.compat.v1.get_default_session instead.\n",
      "\n",
      "WARNING:tensorflow:From /content/ehm_faces/final_tool/dnnlib/tflib/tfutil.py:109: The name tf.set_random_seed is deprecated. Please use tf.compat.v1.set_random_seed instead.\n",
      "\n",
      "WARNING:tensorflow:From /content/ehm_faces/final_tool/dnnlib/tflib/tfutil.py:132: The name tf.ConfigProto is deprecated. Please use tf.compat.v1.ConfigProto instead.\n",
      "\n",
      "WARNING:tensorflow:From /content/ehm_faces/final_tool/dnnlib/tflib/network.py:142: The name tf.get_default_graph is deprecated. Please use tf.compat.v1.get_default_graph instead.\n",
      "\n",
      "WARNING:tensorflow:From /content/ehm_faces/final_tool/dnnlib/tflib/network.py:150: The name tf.AUTO_REUSE is deprecated. Please use tf.compat.v1.AUTO_REUSE instead.\n",
      "\n",
      "WARNING:tensorflow:From /content/ehm_faces/final_tool/dnnlib/tflib/tfutil.py:76: The name tf.VariableScope is deprecated. Please use tf.compat.v1.VariableScope instead.\n",
      "\n",
      "WARNING:tensorflow:From /content/ehm_faces/final_tool/dnnlib/tflib/network.py:151: The name tf.get_variable_scope is deprecated. Please use tf.compat.v1.get_variable_scope instead.\n",
      "\n",
      "WARNING:tensorflow:From /content/ehm_faces/final_tool/dnnlib/tflib/network.py:154: The name tf.placeholder is deprecated. Please use tf.compat.v1.placeholder instead.\n",
      "\n",
      "WARNING:tensorflow:From /content/ehm_faces/final_tool/dnnlib/tflib/network.py:182: The name tf.global_variables is deprecated. Please use tf.compat.v1.global_variables instead.\n",
      "\n",
      "WARNING:tensorflow:From /content/ehm_faces/final_tool/dnnlib/tflib/tfutil.py:200: The name tf.assign is deprecated. Please use tf.compat.v1.assign instead.\n",
      "\n",
      "WARNING:tensorflow:From <string>:364: where (from tensorflow.python.ops.array_ops) is deprecated and will be removed in a future version.\n",
      "Instructions for updating:\n",
      "Use tf.where in 2.0, which has the same broadcast rule as np.where\n",
      "WARNING:tensorflow:From /content/ehm_faces/final_tool/deeplab_tools.py:28: The name tf.GraphDef is deprecated. Please use tf.compat.v1.GraphDef instead.\n",
      "\n",
      "Generating faces. Please wait.\n",
      "  0% 144/42466 [00:49<3:31:30,  3.33it/s]Traceback (most recent call last):\n",
      "  File \"/content/ehm_faces/final_tool/facepic_generator.py\", line 181, in <module>\n",
      "    main()\n",
      "  File \"/content/ehm_faces/final_tool/facepic_generator.py\", line 178, in main\n",
      "    generate_faces_from_csv(players, output_path)\n",
      "  File \"/content/ehm_faces/final_tool/facepic_generator.py\", line 48, in generate_faces_from_csv\n",
      "    im = generate_single_face(Gs, deeplab_model)\n",
      "  File \"/content/ehm_faces/final_tool/facepic_generator.py\", line 33, in generate_single_face\n",
      "    im = deeplab_model.trim(im)\n",
      "  File \"/content/ehm_faces/final_tool/deeplab_tools.py\", line 62, in trim\n",
      "    image, seg_image = self.run(original_image)\n",
      "  File \"/content/ehm_faces/final_tool/deeplab_tools.py\", line 57, in run\n",
      "    feed_dict={self.INPUT_TENSOR_NAME: [np.asarray(resized_image)]})\n",
      "  File \"/tensorflow-1.15.2/python3.6/tensorflow_core/python/client/session.py\", line 956, in run\n",
      "    run_metadata_ptr)\n",
      "  File \"/tensorflow-1.15.2/python3.6/tensorflow_core/python/client/session.py\", line 1180, in _run\n",
      "    feed_dict_tensor, options, run_metadata)\n",
      "  File \"/tensorflow-1.15.2/python3.6/tensorflow_core/python/client/session.py\", line 1359, in _do_run\n",
      "    run_metadata)\n",
      "  File \"/tensorflow-1.15.2/python3.6/tensorflow_core/python/client/session.py\", line 1365, in _do_call\n",
      "    return fn(*args)\n",
      "  File \"/tensorflow-1.15.2/python3.6/tensorflow_core/python/client/session.py\", line 1350, in _run_fn\n",
      "    target_list, run_metadata)\n",
      "  File \"/tensorflow-1.15.2/python3.6/tensorflow_core/python/client/session.py\", line 1443, in _call_tf_sessionrun\n",
      "    run_metadata)\n",
      "KeyboardInterrupt\n",
      "  0% 144/42466 [00:49<4:04:20,  2.89it/s]\n"
     ]
    }
   ],
   "source": [
    "!python3 /content/ehm_faces/final_tool/facepic_generator.py"
   ]
  },
  {
   "cell_type": "code",
   "execution_count": null,
   "metadata": {
    "id": "VeJKSoyX4Yv8",
    "colab_type": "code",
    "colab": {
     "base_uri": "https://localhost:8080/",
     "height": 1000.0
    },
    "outputId": "414ca10d-8bd1-477e-cc3a-e9d174035fca"
   },
   "outputs": [
    {
     "name": "stdout",
     "output_type": "stream",
     "text": [
      "  adding: content/faces2/ (stored 0%)\n",
      "  adding: content/faces2/Wehebe_Darge_4_12_1991.png (deflated 0%)\n",
      "  adding: content/faces2/Jackson_Knott_7_12_1994.png (deflated 0%)\n",
      "  adding: content/faces2/Dominik_Frank_6_5_1994.png (deflated 0%)\n",
      "  adding: content/faces2/Jack_Hayes_20_1_1998.png (deflated 0%)\n",
      "  adding: content/faces2/Florian_Goriupp_15_1_1989.png (deflated 0%)\n",
      "  adding: content/faces2/Lukas_Draschkowitz_25_4_1989.png (deflated 0%)\n",
      "  adding: content/faces2/Mario_Altmann_4_11_1986.png (deflated 0%)\n",
      "  adding: content/faces2/Markus_Hasenhütl_27_6_1987.png (deflated 0%)\n",
      "  adding: content/faces2/Alexander_Feichtner_23_4_1989.png (deflated 0%)\n",
      "  adding: content/faces2/Martin_Grabher Meier_21_11_1983.png (deflated 0%)\n",
      "  adding: content/faces2/Patrick_Nadin_21_8_1995.png (deflated 0%)\n",
      "  adding: content/faces2/Jonathon_Bremner_27_9_1990.png (deflated 0%)\n",
      "  adding: content/faces2/Alastair_Punler_12_2_1996.png (deflated 0%)\n",
      "  adding: content/faces2/David_Ferrari_31_1_1984.png (deflated 0%)\n",
      "  adding: content/faces2/Harley_Quinton-Jones_13_5_1995.png (deflated 0%)\n",
      "  adding: content/faces2/Dominique_Heinrich_31_7_1990.png (deflated 0%)\n",
      "  adding: content/faces2/Remy_McGuiness_17_3_1997.png (deflated 0%)\n",
      "  adding: content/faces2/Luke_Zvonicek_30_8_1996.png (deflated 0%)\n",
      "  adding: content/faces2/Shannon_McGregor_25_5_1991.png (deflated 0%)\n",
      "  adding: content/faces2/Mate_Gaspar_2_2_1997.png (deflated 0%)\n",
      "  adding: content/faces2/Thomas_Powell_12_2_1986.png (deflated 0%)\n",
      "  adding: content/faces2/David_Foster_6_2_1997.png (deflated 0%)\n",
      "  adding: content/faces2/Thomas_Auer_5_11_1982.png (deflated 0%)\n",
      "  adding: content/faces2/Michael_Grabner_5_10_1987.png (deflated 0%)\n",
      "  adding: content/faces2/Stefan_Bacher_4_7_1989.png (deflated 0%)\n",
      "  adding: content/faces2/Todd_Graham_8_2_1991.png (deflated 0%)\n",
      "  adding: content/faces2/David_Kudla_21_10_1990.png (deflated 0%)\n",
      "  adding: content/faces2/Florian_Baltram_25_3_1997.png (deflated 0%)\n",
      "  adding: content/faces2/Alexander_Cijan_16_5_1994.png (deflated 0%)\n",
      "  adding: content/faces2/Norair_Hovsepyan_27_10_1994.png (deflated 0%)\n",
      "  adding: content/faces2/Christian_Ban_16_3_1982.png (deflated 0%)\n",
      "  adding: content/faces2/Stefan_Gaffal_24_11_1996.png (deflated 0%)\n",
      "  adding: content/faces2/Christian_Gmeiner_21_12_1983.png (deflated 0%)\n",
      "  adding: content/faces2/Spencer_Austin_5_3_1992.png (deflated 0%)\n",
      "  adding: content/faces2/Darren_Corstens_8_10_1990.png (deflated 0%)\n",
      "  adding: content/faces2/Julian_Grosslercher_5_3_1993.png (deflated 0%)\n",
      "  adding: content/faces2/Stephen_Belic_20_2_1987.png (deflated 0%)\n",
      "  adding: content/faces2/Sean_Jones_26_5_1985.png (deflated 0%)\n",
      "  adding: content/faces2/Johannes_Hehle_15_3_1985.png (deflated 0%)\n",
      "  adding: content/faces2/Kevin_Essmann_4_1_1991.png (deflated 0%)\n",
      "  adding: content/faces2/Simon_Duran_30_8_1998.png (deflated 0%)\n",
      "  adding: content/faces2/Daniel_Pataky_24_1_1996.png (deflated 0%)\n",
      "  adding: content/faces2/Nicholas_Novysedlak_11_8_1995.png (deflated 0%)\n",
      "  adding: content/faces2/Mitchell_Humphries_25_6_1993.png (deflated 0%)\n",
      "  adding: content/faces2/Casey_Kubara_6_4_1996.png (deflated 0%)\n",
      "  adding: content/faces2/Manuel_Geier_8_1_1988.png (deflated 0%)\n",
      "  adding: content/faces2/Jake_Knott_21_6_1996.png (deflated 0%)\n",
      "  adding: content/faces2/Corey_Stringer_10_8_1997.png (deflated 0%)\n",
      "  adding: content/faces2/Mat_Lindsay_29_1_1990.png (deflated 0%)\n",
      "  adding: content/faces2/Daniel_Ban_11_11_1993.png (deflated 0%)\n",
      "  adding: content/faces2/Lucas_Haberl_18_5_1998.png (deflated 0%)\n",
      "  adding: content/faces2/Lukas_Färber_9_7_1998.png (deflated 0%)\n",
      "  adding: content/faces2/Ruslan_Gelfanov_8_5_1995.png (deflated 0%)\n",
      "  adding: content/faces2/Matt_Wettini_24_1_1991.png (deflated 0%)\n",
      "  adding: content/faces2/Dominic_Haberl_22_1_1996.png (deflated 0%)\n",
      "  adding: content/faces2/Christoph_Draschkowitz_25_4_1989.png (deflated 0%)\n",
      "  adding: content/faces2/David_Franz_28_10_1992.png (deflated 0%)\n",
      "  adding: content/faces2/Tyson_Boyd_29_3_1986.png (deflated 0%)\n",
      "  adding: content/faces2/Brendan_McDowell_12_3_1992.png (deflated 0%)\n",
      "  adding: content/faces2/Michael_Schlamp_30_1_1981.png (deflated 0%)\n",
      "  adding: content/faces2/Andrew_Fitzgerald_2_4_1990.png (deflated 0%)\n",
      "  adding: content/faces2/Zachary_Boyle_12_5_1996.png (deflated 0%)\n",
      "  adding: content/faces2/Nikolaus_Hartl_18_12_1991.png (deflated 0%)\n",
      "  adding: content/faces2/Steve_Best_29_5_1992.png (deflated 0%)\n",
      "  adding: content/faces2/Jamie_Woodman_31_8_1994.png (deflated 0%)\n",
      "  adding: content/faces2/Tim_Stanger_20_5_1990.png (deflated 0%)\n",
      "  adding: content/faces2/Marius_Göhringer_24_10_1992.png (deflated 0%)\n",
      "  adding: content/faces2/Luke_Harding_10_2_1988.png (deflated 0%)\n",
      "  adding: content/faces2/Cameron_Smith_17_6_1997.png (deflated 0%)\n",
      "  adding: content/faces2/Markus_Bacher_27_7_1987.png (deflated 0%)\n",
      "  adding: content/faces2/Bernhard_Fechtig_6_1_1993.png (deflated 0%)\n",
      "  adding: content/faces2/Lukas_Herzog_7_2_1993.png (deflated 0%)\n",
      "  adding: content/faces2/Florian_Dinhopel_13_1_1987.png (deflated 0%)\n",
      "  adding: content/faces2/Dominic_Hackl_8_11_1996.png (deflated 0%)\n",
      "  adding: content/faces2/Vincent_Hughes_10_8_1981.png (deflated 0%)\n",
      "  adding: content/faces2/Richard_Tesarik_6_5_1985.png (deflated 0%)\n",
      "  adding: content/faces2/Adrian_Esposito_1_2_1985.png (deflated 0%)\n",
      "  adding: content/faces2/Tyerell_Clare_18_10_1997.png (deflated 0%)\n",
      "  adding: content/faces2/Stefan_Freunschlag_1_11_1996.png (deflated 0%)\n",
      "  adding: content/faces2/Jürgen_Fussenegger_13_6_1989.png (deflated 0%)\n",
      "  adding: content/faces2/Charles_Smart_30_5_1996.png (deflated 0%)\n",
      "  adding: content/faces2/Robert_Malloy_20_11_1986.png (deflated 0%)\n",
      "  adding: content/faces2/Jamie_Bourke_23_5_1991.png (deflated 0%)\n",
      "  adding: content/faces2/Urban_Avsenik_3_11_1997.png (deflated 0%)\n",
      "  adding: content/faces2/Sam_Hodic_19_8_1996.png (deflated 0%)\n",
      "  adding: content/faces2/Brendan_Oakes_10_5_1993.png (deflated 0%)\n",
      "  adding: content/faces2/Brian_Funes_3_1_1991.png (deflated 0%)\n",
      "  adding: content/faces2/Kayne_Fedor_13_4_1996.png (deflated 0%)\n",
      "  adding: content/faces2/Lukas_Haudum_21_5_1997.png (deflated 0%)\n",
      "  adding: content/faces2/Lliam_Webster_19_2_1986.png (deflated 0%)\n",
      "  adding: content/faces2/Raphael_Herburger_2_1_1989.png (deflated 0%)\n",
      "  adding: content/faces2/Tomas_Sak_26_6_1995.png (deflated 0%)\n",
      "  adding: content/faces2/Oliver_Achermann_16_1_1994.png (deflated 0%)\n",
      "  adding: content/faces2/Nathan_Walker_7_2_1994.png (deflated 0%)\n",
      "  adding: content/faces2/Jayson_Chalker_16_7_1988.png (deflated 0%)\n",
      "  adding: content/faces2/Tyler_Kubara_28_11_1994.png (deflated 0%)\n",
      "  adding: content/faces2/Benjamin_Baumgartner_22_4_2000.png (deflated 0%)\n",
      "  adding: content/faces2/Jackson_McCoy_21_8_1990.png (deflated 0%)\n",
      "  adding: content/faces2/Mario_Ebner_16_12_1995.png (deflated 0%)\n",
      "  adding: content/faces2/Matthias_Haller_2_11_1985.png (deflated 0%)\n",
      "  adding: content/faces2/Julian_Auer_9_2_1999.png (deflated 0%)\n",
      "  adding: content/faces2/Matt_Stringer_4_5_1993.png (deflated 0%)\n",
      "  adding: content/faces2/Patrick_Bolterle_5_7_1996.png (deflated 0%)\n",
      "  adding: content/faces2/Christoph_Duller_14_2_1994.png (deflated 0%)\n",
      "  adding: content/faces2/Paul_Bond_16_12_1983.png (deflated 0%)\n",
      "  adding: content/faces2/Nico_Brunner_17_9_1992.png (deflated 0%)\n",
      "  adding: content/faces2/Michael_McDowell_21_3_1989.png (deflated 0%)\n",
      "  adding: content/faces2/Beau_Taylor_1_2_1991.png (deflated 0%)\n",
      "  adding: content/faces2/Patrick_Harand_15_3_1984.png (deflated 0%)\n",
      "  adding: content/faces2/Manuel_Ganahl_12_7_1990.png (deflated 0%)\n",
      "  adding: content/faces2/Daniel_Gasser_10_8_1988.png (deflated 0%)\n",
      "  adding: content/faces2/Jordan_Kyros_24_2_1992.png (deflated 0%)\n",
      "  adding: content/faces2/Adam_Kimbley_15_8_1988.png (deflated 0%)\n",
      "  adding: content/faces2/Florian_Eder_6_11_1996.png (deflated 0%)\n",
      "  adding: content/faces2/Joseph_Hughes_3_7_1984.png (deflated 0%)\n",
      "  adding: content/faces2/Mark_Rummukainen_19_2_1982.png (deflated 0%)\n",
      "  adding: content/faces2/Stefan_Häussle_31_10_1992.png (deflated 0%)\n",
      "  adding: content/faces2/Patrick_Gaffal_12_10_1994.png (deflated 0%)\n",
      "  adding: content/faces2/Florian_Aigner_12_4_1996.png (deflated 0%)\n",
      "  adding: content/faces2/Kieran_Webster_12_7_1997.png (deflated 0%)\n",
      "  adding: content/faces2/Mario_Fischer_5_5_1989.png (deflated 0%)\n",
      "  adding: content/faces2/Stefan_Geier_8_1_1988.png (deflated 0%)\n",
      "  adding: content/faces2/Dominic_Divis_20_5_1997.png (deflated 0%)\n",
      "  adding: content/faces2/Lyndon_Lodge_10_12_1997.png (deflated 0%)\n",
      "  adding: content/faces2/Sam_Antonitsch_3_1_1996.png (deflated 0%)\n",
      "  adding: content/faces2/Shane_Southwood_20_4_1991.png (deflated 0%)\n",
      "  adding: content/faces2/Julian_Grafschafter_15_5_1987.png (deflated 0%)\n",
      "  adding: content/faces2/Marco_Brucker_14_5_1991.png (deflated 0%)\n",
      "  adding: content/faces2/Sascha_Bauer_30_1_1995.png (deflated 0%)\n",
      "  adding: content/faces2/Hamish_Powell_8_6_1992.png (deflated 0%)\n",
      "  adding: content/faces2/Jack_Carpenter_30_11_1993.png (deflated 0%)\n",
      "  adding: content/faces2/Alec_Stephenson_8_12_1993.png (deflated 0%)\n",
      "  adding: content/faces2/Matthias_Fritz_16_6_1989.png (deflated 0%)\n",
      "  adding: content/faces2/Daniel_Frischmann_20_1_1992.png (deflated 0%)\n",
      "  adding: content/faces2/Saxon_Air_25_3_1995.png (deflated 0%)\n",
      "  adding: content/faces2/Ryan_Foll_25_3_1996.png (deflated 0%)\n",
      "  adding: content/faces2/Felix_Brunner_20_10_1995.png (deflated 0%)\n",
      "  adding: content/faces2/Johannes_Bischofberger_13_7_1994.png (deflated 0%)\n",
      "  adding: content/faces2/Cameron_Todd_21_7_1994.png (deflated 0%)\n",
      "  adding: content/faces2/Chris_Wong_22_4_1995.png (deflated 0%)\n",
      "  adding: content/faces2/Andrew_Erzen_18_8_1989.png (deflated 0%)\n",
      "  adding: content/faces2/Robert_Haselhurst_27_9_1992.png (deflated 0%)\n",
      "  adding: content/faces2/Christoph_Herzog_31_7_1991.png (deflated 0%)\n",
      "  adding: content/faces2/Lee_Turner_4_7_1990.png (deflated 0%)\n"
     ]
    }
   ],
   "source": [
    "!zip players.zip -r /content/faces2"
   ]
  },
  {
   "cell_type": "code",
   "execution_count": null,
   "metadata": {
    "id": "CmGsVAdfKUns",
    "colab_type": "code",
    "colab": {}
   },
   "outputs": [],
   "source": [
    "# players = pd.read_csv('/content/players_&_non-players.csv', encoding='ISO-8859-1')"
   ]
  },
  {
   "cell_type": "code",
   "execution_count": null,
   "metadata": {
    "id": "08HpeqKOKvWe",
    "colab_type": "code",
    "colab": {}
   },
   "outputs": [],
   "source": [
    "# players = players.drop(0, axis=0)\n",
    "# # players['Unnamed: 3'] = pd.to_datetime(players['Unnamed: 3'])\n",
    "# players['Unnamed: 3'] = players['Unnamed: 3'].apply(lambda x: datetime.datetime.strptime(x, '%d.%m.%Y'))\n",
    "# players = players[players['Unnamed: 3'] > '1994.1.1']\n",
    "# players['Unnamed: 3'] = players['Unnamed: 3'].apply(lambda x: x.strftime('%-d_%-m_%Y'))"
   ]
  },
  {
   "cell_type": "code",
   "execution_count": null,
   "metadata": {
    "id": "DPbOX2XcMeqM",
    "colab_type": "code",
    "colab": {}
   },
   "outputs": [],
   "source": [
    "# players.to_csv('/content/players2.csv', index=False, encoding='ISO-8859-1')"
   ]
  }
 ],
 "metadata": {
  "colab": {
   "name": "Final Tool Testing",
   "provenance": [],
   "collapsed_sections": [],
   "authorship_tag": "ABX9TyNHaa5PUoBQrVAOXwwrutDZ",
   "include_colab_link": true
  },
  "kernelspec": {
   "name": "python3",
   "display_name": "Python 3"
  },
  "accelerator": "GPU"
 },
 "nbformat": 4,
 "nbformat_minor": 0
}
